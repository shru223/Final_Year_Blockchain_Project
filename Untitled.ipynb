{
 "cells": [
  {
   "cell_type": "code",
   "execution_count": 4,
   "id": "343a63c0",
   "metadata": {},
   "outputs": [
    {
     "name": "stdout",
     "output_type": "stream",
     "text": [
      "Distance between Mumbai City District, Maharashtra, India and Delhi, India is 1156.93 kilometers\n"
     ]
    }
   ],
   "source": [
    "from geopy.geocoders import Nominatim\n",
    "from geopy.distance import geodesic\n",
    "\n",
    "# Initialize the geolocator\n",
    "geolocator = Nominatim(user_agent=\"city_distance_calculator\")\n",
    "\n",
    "# Get the coordinates (latitude and longitude) of the two cities\n",
    "city1 = geolocator.geocode(\"Mumbai, India\")\n",
    "city2 = geolocator.geocode(\"delhi, India\")\n",
    "\n",
    "# Calculate the distance between the two cities\n",
    "distance = geodesic((city1.latitude, city1.longitude), (city2.latitude, city2.longitude)).kilometers\n",
    "\n",
    "print(f\"Distance between {city1.address} and {city2.address} is {distance:.2f} kilometers\")\n"
   ]
  },
  {
   "cell_type": "code",
   "execution_count": 5,
   "id": "5b611844",
   "metadata": {},
   "outputs": [
    {
     "name": "stdout",
     "output_type": "stream",
     "text": [
      "      Source Destination     distance\n",
      "0     Mumbai     Chennai  1028.755981\n",
      "1      Delhi     Kolkata  1308.144157\n",
      "2  Bangalore   Hyderabad   494.279834\n"
     ]
    }
   ],
   "source": [
    "import pandas as pd\n",
    "from geopy.geocoders import Nominatim\n",
    "from geopy.distance import geodesic\n",
    "\n",
    "# Sample DataFrame with 'Source' and 'Destination' columns\n",
    "data = {'Source': ['Mumbai', 'Delhi', 'Bangalore'],\n",
    "        'Destination': ['Chennai', 'Kolkata', 'Hyderabad']}\n",
    "df = pd.DataFrame(data)\n",
    "\n",
    "# Initialize the geolocator\n",
    "geolocator = Nominatim(user_agent=\"city_distance_calculator\")\n",
    "\n",
    "# Function to calculate distance between source and destination\n",
    "def calculate_distance(row):\n",
    "    source = geolocator.geocode(row['Source'] + ', India')\n",
    "    destination = geolocator.geocode(row['Destination'] + ', India')\n",
    "    \n",
    "    if source is not None and destination is not None:\n",
    "        distance = geodesic((source.latitude, source.longitude), (destination.latitude, destination.longitude)).kilometers\n",
    "        return distance\n",
    "    else:\n",
    "        return None\n",
    "\n",
    "# Apply the function to create the 'distance' column\n",
    "df['distance'] = df.apply(calculate_distance, axis=1)\n",
    "\n",
    "print(df)\n"
   ]
  },
  {
   "cell_type": "code",
   "execution_count": 8,
   "id": "156edad7",
   "metadata": {},
   "outputs": [
    {
     "name": "stdout",
     "output_type": "stream",
     "text": [
      "      Source Destination     Distance\n",
      "0   Banglore   New Delhi  1733.705461\n",
      "1   Banglore    Banglore     0.000000\n",
      "2   Banglore      Cochin   360.523168\n",
      "3   Banglore     Kolkata  1562.399645\n",
      "4   Banglore       Delhi  1735.285777\n",
      "5   Banglore   Hyderabad   496.925194\n",
      "6    Kolkata   New Delhi  1304.222525\n",
      "7    Kolkata    Banglore  1562.399645\n",
      "8    Kolkata      Cochin  1901.269316\n",
      "9    Kolkata     Kolkata     0.000000\n",
      "10   Kolkata       Delhi  1308.144157\n",
      "11   Kolkata   Hyderabad  1184.543217\n",
      "12     Delhi   New Delhi     3.943417\n",
      "13     Delhi    Banglore  1735.285777\n",
      "14     Delhi      Cochin  2067.985155\n",
      "15     Delhi     Kolkata  1308.144157\n",
      "16     Delhi       Delhi     0.000000\n",
      "17     Delhi   Hyderabad  1254.847315\n",
      "18   Chennai   New Delhi  1748.515819\n",
      "19   Chennai    Banglore   294.599818\n",
      "20   Chennai      Cochin   558.161985\n",
      "21   Chennai     Kolkata  1355.300874\n",
      "22   Chennai       Delhi  1750.688589\n",
      "23   Chennai   Hyderabad   511.055118\n",
      "24    Mumbai   New Delhi  1157.015137\n",
      "25    Mumbai    Banglore   836.061342\n",
      "26    Mumbai      Cochin  1062.236363\n",
      "27    Mumbai     Kolkata  1665.071590\n",
      "28    Mumbai       Delhi  1156.931577\n",
      "29    Mumbai   Hyderabad   623.422170\n"
     ]
    }
   ],
   "source": [
    "import pandas as pd\n",
    "from geopy.geocoders import Nominatim\n",
    "from geopy.distance import geodesic\n",
    "\n",
    "# Lists of source and destination cities\n",
    "source_list = ['Banglore', 'Kolkata', 'Delhi', 'Chennai', 'Mumbai']\n",
    "destination_list = ['New Delhi', 'Banglore', 'Cochin', 'Kolkata', 'Delhi', 'Hyderabad']\n",
    "\n",
    "# Initialize the geolocator\n",
    "geolocator = Nominatim(user_agent=\"city_distance_calculator\")\n",
    "\n",
    "# Function to calculate distance between source and destination\n",
    "def calculate_distance(source, destination):\n",
    "    source_location = geolocator.geocode(source + ', India')\n",
    "    destination_location = geolocator.geocode(destination + ', India')\n",
    "    \n",
    "    if source_location is not None and destination_location is not None:\n",
    "        distance = geodesic((source_location.latitude, source_location.longitude), \n",
    "                            (destination_location.latitude, destination_location.longitude)).kilometers\n",
    "        return distance\n",
    "    else:\n",
    "        return None\n",
    "\n",
    "# Create a list to store the distances\n",
    "distances = []\n",
    "\n",
    "# Calculate distances for each combination of source and destination\n",
    "for source in source_list:\n",
    "    for destination in destination_list:\n",
    "        distance = calculate_distance(source, destination)\n",
    "        distances.append({'Source': source, 'Destination': destination, 'Distance': distance})\n",
    "\n",
    "# Create a DataFrame from the distances list\n",
    "df = pd.DataFrame(distances)\n",
    "\n",
    "print(df)\n"
   ]
  },
  {
   "cell_type": "code",
   "execution_count": 9,
   "id": "b0044d51",
   "metadata": {},
   "outputs": [
    {
     "ename": "SyntaxError",
     "evalue": "invalid syntax (4081045487.py, line 1)",
     "output_type": "error",
     "traceback": [
      "\u001b[0;36m  File \u001b[0;32m\"/tmp/ipykernel_7263/4081045487.py\"\u001b[0;36m, line \u001b[0;32m1\u001b[0m\n\u001b[0;31m    df2 is having a \"source\"  \"destination\" and \"distance\"column for cities in bangalore\u001b[0m\n\u001b[0m                  ^\u001b[0m\n\u001b[0;31mSyntaxError\u001b[0m\u001b[0;31m:\u001b[0m invalid syntax\n"
     ]
    }
   ],
   "source": [
    "df2 is having a \"source\"  \"destination\" and \"distance\"column for cities in bangalore\n",
    "\n",
    "now df is having \"source\"  \"destination\"columns now create \"distance\" based on df2 databecause df also have same city names but df is having more rows\n",
    "\n",
    "\n",
    "\n",
    "fetch and compare df2 and df  source and destination based on same cities create new column \"distance\" on df"
   ]
  },
  {
   "cell_type": "code",
   "execution_count": 10,
   "id": "1006d146",
   "metadata": {},
   "outputs": [
    {
     "name": "stdout",
     "output_type": "stream",
     "text": [
      "      source destination  distance\n",
      "0  Bangalore      Mumbai       NaN\n",
      "1    Chennai      Mumbai     500.0\n",
      "2     Mumbai   Bangalore     750.0\n"
     ]
    }
   ],
   "source": [
    "import pandas as pd\n",
    "\n",
    "# Sample data for df and df2\n",
    "data_df = {\n",
    "    'source': ['Bangalore', 'Chennai', 'Mumbai'],\n",
    "    'destination': ['Mumbai', 'Mumbai', 'Bangalore']\n",
    "}\n",
    "\n",
    "data_df2 = {\n",
    "    'source': ['Bangalore', 'Chennai', 'Mumbai'],\n",
    "    'destination': ['Chennai', 'Mumbai', 'Bangalore'],\n",
    "    'distance': [350, 500, 750]\n",
    "}\n",
    "\n",
    "df = pd.DataFrame(data_df)\n",
    "df2 = pd.DataFrame(data_df2)\n",
    "\n",
    "# Create a dictionary mapping (source, destination) to distance\n",
    "distance_dict = {(row['source'], row['destination']): row['distance'] for index, row in df2.iterrows()}\n",
    "\n",
    "# Update the 'distance' column in df based on the dictionary\n",
    "df['distance'] = [distance_dict.get((source, dest), None) for source, dest in zip(df['source'], df['destination'])]\n",
    "\n",
    "# Display the updated df\n",
    "print(df)\n"
   ]
  },
  {
   "cell_type": "code",
   "execution_count": null,
   "id": "59ae133d",
   "metadata": {},
   "outputs": [],
   "source": []
  }
 ],
 "metadata": {
  "kernelspec": {
   "display_name": "agri",
   "language": "python",
   "name": "agri"
  },
  "language_info": {
   "codemirror_mode": {
    "name": "ipython",
    "version": 3
   },
   "file_extension": ".py",
   "mimetype": "text/x-python",
   "name": "python",
   "nbconvert_exporter": "python",
   "pygments_lexer": "ipython3",
   "version": "3.7.11"
  }
 },
 "nbformat": 4,
 "nbformat_minor": 5
}
